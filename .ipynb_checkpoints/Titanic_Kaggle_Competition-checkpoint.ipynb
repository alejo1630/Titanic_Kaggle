{
 "cells": [
  {
   "cell_type": "markdown",
   "id": "28fe0949",
   "metadata": {},
   "source": [
    "# Titanic Disaster\n",
    "\n",
    "\n",
    "<img src = \"https://drive.google.com/uc?id=1N8r3PEw9q8xaVdeWx_4GgB6cmAGugxRr\" width=\"500\" >\n"
   ]
  },
  {
   "cell_type": "markdown",
   "id": "ad395b67",
   "metadata": {},
   "source": [
    "## Import Libraries"
   ]
  },
  {
   "cell_type": "code",
   "execution_count": 1,
   "id": "3956d7ff",
   "metadata": {},
   "outputs": [],
   "source": [
    "## ----- BASIC LIBRARIES ------\n",
    "\n",
    "import pandas as pd # Dataframe operations\n",
    "import matplotlib.pyplot as plt # Plots\n",
    "import seaborn as sns # Improve plots\n",
    "import opendatasets as od # Download data from Kaggle\n",
    "import missingno as msno # Looking for nan values\n",
    "from collections import Counter # Counter tool\n",
    "import numpy as np # Array operations\n",
    "\n",
    "## ----- PREPROCESSING ------\n",
    "\n",
    "from sklearn.impute import KNNImputer # Imputer tool base on KNN\n",
    "from sklearn.model_selection import train_test_split # Split data into train and test\n",
    "from sklearn.preprocessing import StandardScaler # Scaler tool\n",
    "\n",
    "## ----- PROCESSING -----\n",
    "\n",
    "# Import models \n",
    "from sklearn.linear_model import LogisticRegression\n",
    "from sklearn.neighbors import KNeighborsClassifier\n",
    "from sklearn.naive_bayes import GaussianNB\n",
    "from sklearn.naive_bayes import BernoulliNB\n",
    "from sklearn.tree import DecisionTreeClassifier\n",
    "from sklearn.ensemble import RandomForestClassifier\n",
    "from sklearn.ensemble import ExtraTreesClassifier\n",
    "from sklearn.svm import SVC\n",
    "from xgboost import XGBClassifier\n",
    "from sklearn.neural_network import MLPClassifier\n",
    "\n",
    "# Metrics\n",
    "from sklearn.metrics import confusion_matrix, ConfusionMatrixDisplay, classification_report\n",
    "from sklearn.model_selection import RepeatedStratifiedKFold, cross_val_score\n",
    "\n",
    "## ----- POSTPROCESSING -----\n",
    "import optuna # Hyperparameters Tuning\n",
    "from imblearn.over_sampling import SMOTE # Balancing data"
   ]
  },
  {
   "cell_type": "code",
   "execution_count": 2,
   "id": "d1e43693",
   "metadata": {},
   "outputs": [],
   "source": [
    "# Set the display format for pandas tables\n",
    "pd.set_option('display.float_format', lambda x: '%.3f' % x)"
   ]
  },
  {
   "cell_type": "markdown",
   "id": "08ef8085",
   "metadata": {},
   "source": [
    "Let's download the data directly from [Kaggle Competition Website](https://www.kaggle.com/competitions/titanic/data)"
   ]
  },
  {
   "cell_type": "code",
   "execution_count": 3,
   "id": "b8f351c1",
   "metadata": {},
   "outputs": [
    {
     "name": "stdout",
     "output_type": "stream",
     "text": [
      "Skipping, found downloaded files in \".\\titanic\" (use force=True to force download)\n"
     ]
    }
   ],
   "source": [
    "# Download using opendatasets library\n",
    "od.download(\"https://www.kaggle.com/c/titanic\")"
   ]
  },
  {
   "cell_type": "code",
   "execution_count": 4,
   "id": "3eeac62b",
   "metadata": {},
   "outputs": [
    {
     "data": {
      "text/html": [
       "<div>\n",
       "<style scoped>\n",
       "    .dataframe tbody tr th:only-of-type {\n",
       "        vertical-align: middle;\n",
       "    }\n",
       "\n",
       "    .dataframe tbody tr th {\n",
       "        vertical-align: top;\n",
       "    }\n",
       "\n",
       "    .dataframe thead th {\n",
       "        text-align: right;\n",
       "    }\n",
       "</style>\n",
       "<table border=\"1\" class=\"dataframe\">\n",
       "  <thead>\n",
       "    <tr style=\"text-align: right;\">\n",
       "      <th></th>\n",
       "      <th>PassengerId</th>\n",
       "      <th>Survived</th>\n",
       "      <th>Pclass</th>\n",
       "      <th>Name</th>\n",
       "      <th>Sex</th>\n",
       "      <th>Age</th>\n",
       "      <th>SibSp</th>\n",
       "      <th>Parch</th>\n",
       "      <th>Ticket</th>\n",
       "      <th>Fare</th>\n",
       "      <th>Cabin</th>\n",
       "      <th>Embarked</th>\n",
       "    </tr>\n",
       "  </thead>\n",
       "  <tbody>\n",
       "    <tr>\n",
       "      <th>0</th>\n",
       "      <td>1</td>\n",
       "      <td>0</td>\n",
       "      <td>3</td>\n",
       "      <td>Braund, Mr. Owen Harris</td>\n",
       "      <td>male</td>\n",
       "      <td>22.000</td>\n",
       "      <td>1</td>\n",
       "      <td>0</td>\n",
       "      <td>A/5 21171</td>\n",
       "      <td>7.250</td>\n",
       "      <td>NaN</td>\n",
       "      <td>S</td>\n",
       "    </tr>\n",
       "    <tr>\n",
       "      <th>1</th>\n",
       "      <td>2</td>\n",
       "      <td>1</td>\n",
       "      <td>1</td>\n",
       "      <td>Cumings, Mrs. John Bradley (Florence Briggs Th...</td>\n",
       "      <td>female</td>\n",
       "      <td>38.000</td>\n",
       "      <td>1</td>\n",
       "      <td>0</td>\n",
       "      <td>PC 17599</td>\n",
       "      <td>71.283</td>\n",
       "      <td>C85</td>\n",
       "      <td>C</td>\n",
       "    </tr>\n",
       "    <tr>\n",
       "      <th>2</th>\n",
       "      <td>3</td>\n",
       "      <td>1</td>\n",
       "      <td>3</td>\n",
       "      <td>Heikkinen, Miss. Laina</td>\n",
       "      <td>female</td>\n",
       "      <td>26.000</td>\n",
       "      <td>0</td>\n",
       "      <td>0</td>\n",
       "      <td>STON/O2. 3101282</td>\n",
       "      <td>7.925</td>\n",
       "      <td>NaN</td>\n",
       "      <td>S</td>\n",
       "    </tr>\n",
       "    <tr>\n",
       "      <th>3</th>\n",
       "      <td>4</td>\n",
       "      <td>1</td>\n",
       "      <td>1</td>\n",
       "      <td>Futrelle, Mrs. Jacques Heath (Lily May Peel)</td>\n",
       "      <td>female</td>\n",
       "      <td>35.000</td>\n",
       "      <td>1</td>\n",
       "      <td>0</td>\n",
       "      <td>113803</td>\n",
       "      <td>53.100</td>\n",
       "      <td>C123</td>\n",
       "      <td>S</td>\n",
       "    </tr>\n",
       "    <tr>\n",
       "      <th>4</th>\n",
       "      <td>5</td>\n",
       "      <td>0</td>\n",
       "      <td>3</td>\n",
       "      <td>Allen, Mr. William Henry</td>\n",
       "      <td>male</td>\n",
       "      <td>35.000</td>\n",
       "      <td>0</td>\n",
       "      <td>0</td>\n",
       "      <td>373450</td>\n",
       "      <td>8.050</td>\n",
       "      <td>NaN</td>\n",
       "      <td>S</td>\n",
       "    </tr>\n",
       "  </tbody>\n",
       "</table>\n",
       "</div>"
      ],
      "text/plain": [
       "   PassengerId  Survived  Pclass  \\\n",
       "0            1         0       3   \n",
       "1            2         1       1   \n",
       "2            3         1       3   \n",
       "3            4         1       1   \n",
       "4            5         0       3   \n",
       "\n",
       "                                                Name     Sex    Age  SibSp  \\\n",
       "0                            Braund, Mr. Owen Harris    male 22.000      1   \n",
       "1  Cumings, Mrs. John Bradley (Florence Briggs Th...  female 38.000      1   \n",
       "2                             Heikkinen, Miss. Laina  female 26.000      0   \n",
       "3       Futrelle, Mrs. Jacques Heath (Lily May Peel)  female 35.000      1   \n",
       "4                           Allen, Mr. William Henry    male 35.000      0   \n",
       "\n",
       "   Parch            Ticket   Fare Cabin Embarked  \n",
       "0      0         A/5 21171  7.250   NaN        S  \n",
       "1      0          PC 17599 71.283   C85        C  \n",
       "2      0  STON/O2. 3101282  7.925   NaN        S  \n",
       "3      0            113803 53.100  C123        S  \n",
       "4      0            373450  8.050   NaN        S  "
      ]
     },
     "execution_count": 4,
     "metadata": {},
     "output_type": "execute_result"
    }
   ],
   "source": [
    "# Read the train dataframe\n",
    "\n",
    "df_titanic = pd.read_csv(\"titanic/train.csv\")\n",
    "df_titanic.head() # Show first 5 rows of the data frame"
   ]
  },
  {
   "cell_type": "code",
   "execution_count": 5,
   "id": "0061b7f3",
   "metadata": {},
   "outputs": [
    {
     "data": {
      "text/plain": [
       "(891, 12)"
      ]
     },
     "execution_count": 5,
     "metadata": {},
     "output_type": "execute_result"
    }
   ],
   "source": [
    "# Number of rows and columns\n",
    "\n",
    "df_titanic.shape"
   ]
  },
  {
   "cell_type": "markdown",
   "id": "3cb06bb1",
   "metadata": {},
   "source": [
    "There is data of **891** passengers. The data has **12** columns."
   ]
  },
  {
   "cell_type": "code",
   "execution_count": 7,
   "id": "b48d9d63",
   "metadata": {},
   "outputs": [
    {
     "name": "stdout",
     "output_type": "stream",
     "text": [
      "<class 'pandas.core.frame.DataFrame'>\n",
      "RangeIndex: 891 entries, 0 to 890\n",
      "Data columns (total 12 columns):\n",
      " #   Column       Non-Null Count  Dtype  \n",
      "---  ------       --------------  -----  \n",
      " 0   PassengerId  891 non-null    int64  \n",
      " 1   Survived     891 non-null    int64  \n",
      " 2   Pclass       891 non-null    int64  \n",
      " 3   Name         891 non-null    object \n",
      " 4   Sex          891 non-null    object \n",
      " 5   Age          714 non-null    float64\n",
      " 6   SibSp        891 non-null    int64  \n",
      " 7   Parch        891 non-null    int64  \n",
      " 8   Ticket       891 non-null    object \n",
      " 9   Fare         891 non-null    float64\n",
      " 10  Cabin        204 non-null    object \n",
      " 11  Embarked     889 non-null    object \n",
      "dtypes: float64(2), int64(5), object(5)\n",
      "memory usage: 83.7+ KB\n"
     ]
    }
   ],
   "source": [
    "# Get the info fot the dataframe columns\n",
    "\n",
    "df_titanic.info()"
   ]
  },
  {
   "cell_type": "markdown",
   "id": "4b385472",
   "metadata": {},
   "source": [
    "There are **2** columns with *float* data, **5** columns with *int* data, and **5** columns with *object/string* data.\n",
    "\n",
    "There are missing values in the *Age*, *Cabin* and *Embarked* columns."
   ]
  },
  {
   "cell_type": "code",
   "execution_count": 8,
   "id": "18e2c56b",
   "metadata": {},
   "outputs": [
    {
     "data": {
      "text/html": [
       "<div>\n",
       "<style scoped>\n",
       "    .dataframe tbody tr th:only-of-type {\n",
       "        vertical-align: middle;\n",
       "    }\n",
       "\n",
       "    .dataframe tbody tr th {\n",
       "        vertical-align: top;\n",
       "    }\n",
       "\n",
       "    .dataframe thead th {\n",
       "        text-align: right;\n",
       "    }\n",
       "</style>\n",
       "<table border=\"1\" class=\"dataframe\">\n",
       "  <thead>\n",
       "    <tr style=\"text-align: right;\">\n",
       "      <th></th>\n",
       "      <th>PassengerId</th>\n",
       "      <th>Survived</th>\n",
       "      <th>Pclass</th>\n",
       "      <th>Age</th>\n",
       "      <th>SibSp</th>\n",
       "      <th>Parch</th>\n",
       "      <th>Fare</th>\n",
       "    </tr>\n",
       "  </thead>\n",
       "  <tbody>\n",
       "    <tr>\n",
       "      <th>count</th>\n",
       "      <td>891.000</td>\n",
       "      <td>891.000</td>\n",
       "      <td>891.000</td>\n",
       "      <td>714.000</td>\n",
       "      <td>891.000</td>\n",
       "      <td>891.000</td>\n",
       "      <td>891.000</td>\n",
       "    </tr>\n",
       "    <tr>\n",
       "      <th>mean</th>\n",
       "      <td>446.000</td>\n",
       "      <td>0.384</td>\n",
       "      <td>2.309</td>\n",
       "      <td>29.699</td>\n",
       "      <td>0.523</td>\n",
       "      <td>0.382</td>\n",
       "      <td>32.204</td>\n",
       "    </tr>\n",
       "    <tr>\n",
       "      <th>std</th>\n",
       "      <td>257.354</td>\n",
       "      <td>0.487</td>\n",
       "      <td>0.836</td>\n",
       "      <td>14.526</td>\n",
       "      <td>1.103</td>\n",
       "      <td>0.806</td>\n",
       "      <td>49.693</td>\n",
       "    </tr>\n",
       "    <tr>\n",
       "      <th>min</th>\n",
       "      <td>1.000</td>\n",
       "      <td>0.000</td>\n",
       "      <td>1.000</td>\n",
       "      <td>0.420</td>\n",
       "      <td>0.000</td>\n",
       "      <td>0.000</td>\n",
       "      <td>0.000</td>\n",
       "    </tr>\n",
       "    <tr>\n",
       "      <th>25%</th>\n",
       "      <td>223.500</td>\n",
       "      <td>0.000</td>\n",
       "      <td>2.000</td>\n",
       "      <td>20.125</td>\n",
       "      <td>0.000</td>\n",
       "      <td>0.000</td>\n",
       "      <td>7.910</td>\n",
       "    </tr>\n",
       "    <tr>\n",
       "      <th>50%</th>\n",
       "      <td>446.000</td>\n",
       "      <td>0.000</td>\n",
       "      <td>3.000</td>\n",
       "      <td>28.000</td>\n",
       "      <td>0.000</td>\n",
       "      <td>0.000</td>\n",
       "      <td>14.454</td>\n",
       "    </tr>\n",
       "    <tr>\n",
       "      <th>75%</th>\n",
       "      <td>668.500</td>\n",
       "      <td>1.000</td>\n",
       "      <td>3.000</td>\n",
       "      <td>38.000</td>\n",
       "      <td>1.000</td>\n",
       "      <td>0.000</td>\n",
       "      <td>31.000</td>\n",
       "    </tr>\n",
       "    <tr>\n",
       "      <th>max</th>\n",
       "      <td>891.000</td>\n",
       "      <td>1.000</td>\n",
       "      <td>3.000</td>\n",
       "      <td>80.000</td>\n",
       "      <td>8.000</td>\n",
       "      <td>6.000</td>\n",
       "      <td>512.329</td>\n",
       "    </tr>\n",
       "  </tbody>\n",
       "</table>\n",
       "</div>"
      ],
      "text/plain": [
       "       PassengerId  Survived  Pclass     Age   SibSp   Parch    Fare\n",
       "count      891.000   891.000 891.000 714.000 891.000 891.000 891.000\n",
       "mean       446.000     0.384   2.309  29.699   0.523   0.382  32.204\n",
       "std        257.354     0.487   0.836  14.526   1.103   0.806  49.693\n",
       "min          1.000     0.000   1.000   0.420   0.000   0.000   0.000\n",
       "25%        223.500     0.000   2.000  20.125   0.000   0.000   7.910\n",
       "50%        446.000     0.000   3.000  28.000   0.000   0.000  14.454\n",
       "75%        668.500     1.000   3.000  38.000   1.000   0.000  31.000\n",
       "max        891.000     1.000   3.000  80.000   8.000   6.000 512.329"
      ]
     },
     "execution_count": 8,
     "metadata": {},
     "output_type": "execute_result"
    }
   ],
   "source": [
    "# Describe the numeric (int & float) columns \n",
    "\n",
    "df_titanic.describe()"
   ]
  },
  {
   "cell_type": "code",
   "execution_count": 9,
   "id": "0980bb7f",
   "metadata": {},
   "outputs": [
    {
     "data": {
      "text/html": [
       "<div>\n",
       "<style scoped>\n",
       "    .dataframe tbody tr th:only-of-type {\n",
       "        vertical-align: middle;\n",
       "    }\n",
       "\n",
       "    .dataframe tbody tr th {\n",
       "        vertical-align: top;\n",
       "    }\n",
       "\n",
       "    .dataframe thead th {\n",
       "        text-align: right;\n",
       "    }\n",
       "</style>\n",
       "<table border=\"1\" class=\"dataframe\">\n",
       "  <thead>\n",
       "    <tr style=\"text-align: right;\">\n",
       "      <th></th>\n",
       "      <th>Name</th>\n",
       "      <th>Sex</th>\n",
       "      <th>Ticket</th>\n",
       "      <th>Cabin</th>\n",
       "      <th>Embarked</th>\n",
       "    </tr>\n",
       "  </thead>\n",
       "  <tbody>\n",
       "    <tr>\n",
       "      <th>count</th>\n",
       "      <td>891</td>\n",
       "      <td>891</td>\n",
       "      <td>891</td>\n",
       "      <td>204</td>\n",
       "      <td>889</td>\n",
       "    </tr>\n",
       "    <tr>\n",
       "      <th>unique</th>\n",
       "      <td>891</td>\n",
       "      <td>2</td>\n",
       "      <td>681</td>\n",
       "      <td>147</td>\n",
       "      <td>3</td>\n",
       "    </tr>\n",
       "    <tr>\n",
       "      <th>top</th>\n",
       "      <td>Braund, Mr. Owen Harris</td>\n",
       "      <td>male</td>\n",
       "      <td>347082</td>\n",
       "      <td>B96 B98</td>\n",
       "      <td>S</td>\n",
       "    </tr>\n",
       "    <tr>\n",
       "      <th>freq</th>\n",
       "      <td>1</td>\n",
       "      <td>577</td>\n",
       "      <td>7</td>\n",
       "      <td>4</td>\n",
       "      <td>644</td>\n",
       "    </tr>\n",
       "  </tbody>\n",
       "</table>\n",
       "</div>"
      ],
      "text/plain": [
       "                           Name   Sex  Ticket    Cabin Embarked\n",
       "count                       891   891     891      204      889\n",
       "unique                      891     2     681      147        3\n",
       "top     Braund, Mr. Owen Harris  male  347082  B96 B98        S\n",
       "freq                          1   577       7        4      644"
      ]
     },
     "execution_count": 9,
     "metadata": {},
     "output_type": "execute_result"
    }
   ],
   "source": [
    "# Describe the string/object columns\n",
    "\n",
    "df_titanic.describe(include = \"O\")"
   ]
  },
  {
   "cell_type": "markdown",
   "id": "abd0aa5f",
   "metadata": {},
   "source": [
    "We can use [missingno](https://towardsdatascience.com/using-the-missingno-python-library-to-identify-and-visualise-missing-data-prior-to-machine-learning-34c8c5b5f009) to visualise the missing values"
   ]
  },
  {
   "cell_type": "code",
   "execution_count": 10,
   "id": "11273323",
   "metadata": {},
   "outputs": [
    {
     "data": {
      "text/plain": [
       "<AxesSubplot:>"
      ]
     },
     "execution_count": 10,
     "metadata": {},
     "output_type": "execute_result"
    },
    {
     "data": {
      "image/png": "[encoded data removed]",
      "text/plain": [
       "<Figure size 1800x720 with 2 Axes>"
      ]
     },
     "metadata": {
      "needs_background": "light"
     },
     "output_type": "display_data"
    }
   ],
   "source": [
    "msno.matrix(df_titanic)"
   ]
  },
  {
   "cell_type": "markdown",
   "id": "ccf25cfb",
   "metadata": {},
   "source": [
    "We can compute the percentage of NaN values in each column."
   ]
  },
  {
   "cell_type": "code",
   "execution_count": 11,
   "id": "ddd5fd5a",
   "metadata": {},
   "outputs": [
    {
     "data": {
      "text/html": [
       "<div>\n",
       "<style scoped>\n",
       "    .dataframe tbody tr th:only-of-type {\n",
       "        vertical-align: middle;\n",
       "    }\n",
       "\n",
       "    .dataframe tbody tr th {\n",
       "        vertical-align: top;\n",
       "    }\n",
       "\n",
       "    .dataframe thead th {\n",
       "        text-align: right;\n",
       "    }\n",
       "</style>\n",
       "<table border=\"1\" class=\"dataframe\">\n",
       "  <thead>\n",
       "    <tr style=\"text-align: right;\">\n",
       "      <th></th>\n",
       "      <th>Missing Values[%]</th>\n",
       "    </tr>\n",
       "  </thead>\n",
       "  <tbody>\n",
       "    <tr>\n",
       "      <th>PassengerId</th>\n",
       "      <td>0.000</td>\n",
       "    </tr>\n",
       "    <tr>\n",
       "      <th>Survived</th>\n",
       "      <td>0.000</td>\n",
       "    </tr>\n",
       "    <tr>\n",
       "      <th>Pclass</th>\n",
       "      <td>0.000</td>\n",
       "    </tr>\n",
       "    <tr>\n",
       "      <th>Name</th>\n",
       "      <td>0.000</td>\n",
       "    </tr>\n",
       "    <tr>\n",
       "      <th>Sex</th>\n",
       "      <td>0.000</td>\n",
       "    </tr>\n",
       "    <tr>\n",
       "      <th>Age</th>\n",
       "      <td>19.865</td>\n",
       "    </tr>\n",
       "    <tr>\n",
       "      <th>SibSp</th>\n",
       "      <td>0.000</td>\n",
       "    </tr>\n",
       "    <tr>\n",
       "      <th>Parch</th>\n",
       "      <td>0.000</td>\n",
       "    </tr>\n",
       "    <tr>\n",
       "      <th>Ticket</th>\n",
       "      <td>0.000</td>\n",
       "    </tr>\n",
       "    <tr>\n",
       "      <th>Fare</th>\n",
       "      <td>0.000</td>\n",
       "    </tr>\n",
       "    <tr>\n",
       "      <th>Cabin</th>\n",
       "      <td>77.104</td>\n",
       "    </tr>\n",
       "    <tr>\n",
       "      <th>Embarked</th>\n",
       "      <td>0.224</td>\n",
       "    </tr>\n",
       "  </tbody>\n",
       "</table>\n",
       "</div>"
      ],
      "text/plain": [
       "             Missing Values[%]\n",
       "PassengerId              0.000\n",
       "Survived                 0.000\n",
       "Pclass                   0.000\n",
       "Name                     0.000\n",
       "Sex                      0.000\n",
       "Age                     19.865\n",
       "SibSp                    0.000\n",
       "Parch                    0.000\n",
       "Ticket                   0.000\n",
       "Fare                     0.000\n",
       "Cabin                   77.104\n",
       "Embarked                 0.224"
      ]
     },
     "execution_count": 11,
     "metadata": {},
     "output_type": "execute_result"
    }
   ],
   "source": [
    "(df_titanic.isna().sum()/len(df_titanic)*100).to_frame().rename(columns = {0:\"Missing Values[%]\"})"
   ]
  },
  {
   "cell_type": "markdown",
   "id": "b200b9a1",
   "metadata": {},
   "source": [
    "*Cabin* column has more the 70% of missing values, so it must be deleted from the dataframe. On the other hand, *Age* and *Embarked* columns have less than 20% of missing values, we can use imputation techniques to complete the data."
   ]
  },
  {
   "cell_type": "markdown",
   "id": "c6b7dea6",
   "metadata": {},
   "source": [
    "*PassengerID* column is just the positional value of each passenger into the dataframe, so it will be deleted.\n",
    "*Name* column is just a string, it could be used in future analysis using **Feature Engineering**, but in this case it will be deleted, in order to simplify the analysis."
   ]
  },
  {
   "cell_type": "code",
   "execution_count": 12,
   "id": "0e1098ae",
   "metadata": {},
   "outputs": [
    {
     "data": {
      "text/html": [
       "<div>\n",
       "<style scoped>\n",
       "    .dataframe tbody tr th:only-of-type {\n",
       "        vertical-align: middle;\n",
       "    }\n",
       "\n",
       "    .dataframe tbody tr th {\n",
       "        vertical-align: top;\n",
       "    }\n",
       "\n",
       "    .dataframe thead th {\n",
       "        text-align: right;\n",
       "    }\n",
       "</style>\n",
       "<table border=\"1\" class=\"dataframe\">\n",
       "  <thead>\n",
       "    <tr style=\"text-align: right;\">\n",
       "      <th></th>\n",
       "      <th>Survived</th>\n",
       "      <th>Pclass</th>\n",
       "      <th>Sex</th>\n",
       "      <th>Age</th>\n",
       "      <th>SibSp</th>\n",
       "      <th>Parch</th>\n",
       "      <th>Ticket</th>\n",
       "      <th>Fare</th>\n",
       "      <th>Embarked</th>\n",
       "    </tr>\n",
       "  </thead>\n",
       "  <tbody>\n",
       "    <tr>\n",
       "      <th>0</th>\n",
       "      <td>0</td>\n",
       "      <td>3</td>\n",
       "      <td>male</td>\n",
       "      <td>22.000</td>\n",
       "      <td>1</td>\n",
       "      <td>0</td>\n",
       "      <td>A/5 21171</td>\n",
       "      <td>7.250</td>\n",
       "      <td>S</td>\n",
       "    </tr>\n",
       "    <tr>\n",
       "      <th>1</th>\n",
       "      <td>1</td>\n",
       "      <td>1</td>\n",
       "      <td>female</td>\n",
       "      <td>38.000</td>\n",
       "      <td>1</td>\n",
       "      <td>0</td>\n",
       "      <td>PC 17599</td>\n",
       "      <td>71.283</td>\n",
       "      <td>C</td>\n",
       "    </tr>\n",
       "    <tr>\n",
       "      <th>2</th>\n",
       "      <td>1</td>\n",
       "      <td>3</td>\n",
       "      <td>female</td>\n",
       "      <td>26.000</td>\n",
       "      <td>0</td>\n",
       "      <td>0</td>\n",
       "      <td>STON/O2. 3101282</td>\n",
       "      <td>7.925</td>\n",
       "      <td>S</td>\n",
       "    </tr>\n",
       "    <tr>\n",
       "      <th>3</th>\n",
       "      <td>1</td>\n",
       "      <td>1</td>\n",
       "      <td>female</td>\n",
       "      <td>35.000</td>\n",
       "      <td>1</td>\n",
       "      <td>0</td>\n",
       "      <td>113803</td>\n",
       "      <td>53.100</td>\n",
       "      <td>S</td>\n",
       "    </tr>\n",
       "    <tr>\n",
       "      <th>4</th>\n",
       "      <td>0</td>\n",
       "      <td>3</td>\n",
       "      <td>male</td>\n",
       "      <td>35.000</td>\n",
       "      <td>0</td>\n",
       "      <td>0</td>\n",
       "      <td>373450</td>\n",
       "      <td>8.050</td>\n",
       "      <td>S</td>\n",
       "    </tr>\n",
       "  </tbody>\n",
       "</table>\n",
       "</div>"
      ],
      "text/plain": [
       "   Survived  Pclass     Sex    Age  SibSp  Parch            Ticket   Fare  \\\n",
       "0         0       3    male 22.000      1      0         A/5 21171  7.250   \n",
       "1         1       1  female 38.000      1      0          PC 17599 71.283   \n",
       "2         1       3  female 26.000      0      0  STON/O2. 3101282  7.925   \n",
       "3         1       1  female 35.000      1      0            113803 53.100   \n",
       "4         0       3    male 35.000      0      0            373450  8.050   \n",
       "\n",
       "  Embarked  \n",
       "0        S  \n",
       "1        C  \n",
       "2        S  \n",
       "3        S  \n",
       "4        S  "
      ]
     },
     "execution_count": 12,
     "metadata": {},
     "output_type": "execute_result"
    }
   ],
   "source": [
    "df_titanic.drop([\"PassengerId\", \"Name\", \"Cabin\"], axis = 1, inplace = True) # Delete columns\n",
    "\n",
    "df_titanic.head()"
   ]
  },
  {
   "cell_type": "markdown",
   "id": "053079ac",
   "metadata": {},
   "source": [
    "Let's plot some data"
   ]
  },
  {
   "cell_type": "markdown",
   "id": "112877a8",
   "metadata": {},
   "source": [
    "Firstly, quantitative data: **Age** and **Fare**"
   ]
  },
  {
   "cell_type": "code",
   "execution_count": 13,
   "id": "0215fcd3",
   "metadata": {},
   "outputs": [
    {
     "data": {
      "image/png": "[encoded data removed]",
      "text/plain": [
       "<Figure size 432x288 with 1 Axes>"
      ]
     },
     "metadata": {
      "needs_background": "light"
     },
     "output_type": "display_data"
    }
   ],
   "source": [
    "sns.histplot(df_titanic[\"Age\"])\n",
    "plt.show()"
   ]
  },
  {
   "cell_type": "markdown",
   "id": "6c862144",
   "metadata": {},
   "source": [
    "Passengers' Age were between 0 an 80 years, but most of them were young adults."
   ]
  },
  {
   "cell_type": "code",
   "execution_count": 14,
   "id": "64b9761c",
   "metadata": {},
   "outputs": [
    {
     "data": {
      "image/png": "[encoded data removed]",
      "text/plain": [
       "<Figure size 432x288 with 1 Axes>"
      ]
     },
     "metadata": {
      "needs_background": "light"
     },
     "output_type": "display_data"
    }
   ],
   "source": [
    "sns.histplot(df_titanic[\"Fare\"], color = \"g\", bins  = 30)\n",
    "plt.show()"
   ]
  },
  {
   "cell_type": "markdown",
   "id": "c74ef137",
   "metadata": {},
   "source": [
    "Most of the Fare were below \\\\$100. However, some people paid more than \\\\$200 and even more than \\\\$500."
   ]
  },
  {
   "cell_type": "markdown",
   "id": "46e0561e",
   "metadata": {},
   "source": [
    "Now let's plot the categorical variables: **Survived**, **Pclass**, **SibSp**, **Parch**, **Sex**, and **Embarked**"
   ]
  },
  {
   "cell_type": "code",
   "execution_count": 15,
   "id": "70380d0c",
   "metadata": {},
   "outputs": [
    {
     "data": {
      "image/png": "[encoded data removed]",
      "text/plain": [
       "<Figure size 432x288 with 1 Axes>"
      ]
     },
     "metadata": {
      "needs_background": "light"
     },
     "output_type": "display_data"
    },
    {
     "data": {
      "image/png": "[encoded data removed]",
      "text/plain": [
       "<Figure size 432x288 with 1 Axes>"
      ]
     },
     "metadata": {
      "needs_background": "light"
     },
     "output_type": "display_data"
    },
    {
     "data": {
      "image/png": "[encoded data removed]",
      "text/plain": [
       "<Figure size 432x288 with 1 Axes>"
      ]
     },
     "metadata": {
      "needs_background": "light"
     },
     "output_type": "display_data"
    },
    {
     "data": {
      "image/png": "[encoded data removed]",
      "text/plain": [
       "<Figure size 432x288 with 1 Axes>"
      ]
     },
     "metadata": {
      "needs_background": "light"
     },
     "output_type": "display_data"
    },
    {
     "data": {
      "image/png": "[encoded data removed]",
      "text/plain": [
       "<Figure size 432x288 with 1 Axes>"
      ]
     },
     "metadata": {
      "needs_background": "light"
     },
     "output_type": "display_data"
    },
    {
     "data": {
      "image/png": "[encoded data removed]",
      "text/plain": [
       "<Figure size 432x288 with 1 Axes>"
      ]
     },
     "metadata": {
      "needs_background": "light"
     },
     "output_type": "display_data"
    }
   ],
   "source": [
    "cate = [\"Survived\", \"Pclass\", \"SibSp\", \"Parch\", \"Sex\", \"Embarked\"]\n",
    "\n",
    "for i in cate:\n",
    "    sns.countplot(data = df_titanic, x = i)\n",
    "    plt.show()"
   ]
  },
  {
   "cell_type": "markdown",
   "id": "38166296",
   "metadata": {},
   "source": [
    "We can notice the following:\n",
    "* Most of people died.\n",
    "* The label column (Survived) is unbalanced. This can affect the predictive model performance.\n",
    "* Most of people belonged to third class.\n",
    "* Most of people traveled alone. \n",
    "* Most of people were male\n",
    "* Most of people embarked in Southampton"
   ]
  },
  {
   "cell_type": "markdown",
   "id": "fb352b2b",
   "metadata": {},
   "source": [
    "Now we can plot pairwise relationships between the numerical values into the dataset."
   ]
  },
  {
   "cell_type": "code",
   "execution_count": 16,
   "id": "285d556a",
   "metadata": {},
   "outputs": [
    {
     "data": {
      "image/png": "[encoded data removed]",
      "text/plain": [
       "<Figure size 1080x1080 with 42 Axes>"
      ]
     },
     "metadata": {
      "needs_background": "light"
     },
     "output_type": "display_data"
    }
   ],
   "source": [
    "sns.pairplot(data = df_titanic)\n",
    "plt.show()"
   ]
  },
  {
   "cell_type": "code",
   "execution_count": 17,
   "id": "32c484de",
   "metadata": {},
   "outputs": [
    {
     "data": {
      "image/png": "[encoded data removed]",
      "text/plain": [
       "<Figure size 720x720 with 2 Axes>"
      ]
     },
     "metadata": {
      "needs_background": "light"
     },
     "output_type": "display_data"
    }
   ],
   "source": [
    "fig, ax = plt.subplots(figsize=(10,10))\n",
    "sns.heatmap(df_titanic.corr(method = \"pearson\"), vmin = - 1, vmax = 1, center = 0, fmt='.2f',\n",
    "                square = True, linewidths = 0.5, annot = True, cmap = 'coolwarm')\n",
    "plt.show()"
   ]
  },
  {
   "cell_type": "code",
   "execution_count": 18,
   "id": "e26185b1",
   "metadata": {},
   "outputs": [
    {
     "data": {
      "text/html": [
       "<div>\n",
       "<style scoped>\n",
       "    .dataframe tbody tr th:only-of-type {\n",
       "        vertical-align: middle;\n",
       "    }\n",
       "\n",
       "    .dataframe tbody tr th {\n",
       "        vertical-align: top;\n",
       "    }\n",
       "\n",
       "    .dataframe thead th {\n",
       "        text-align: right;\n",
       "    }\n",
       "</style>\n",
       "<table border=\"1\" class=\"dataframe\">\n",
       "  <thead>\n",
       "    <tr style=\"text-align: right;\">\n",
       "      <th></th>\n",
       "      <th>Age</th>\n",
       "      <th>Fare</th>\n",
       "    </tr>\n",
       "    <tr>\n",
       "      <th>Survived</th>\n",
       "      <th></th>\n",
       "      <th></th>\n",
       "    </tr>\n",
       "  </thead>\n",
       "  <tbody>\n",
       "    <tr>\n",
       "      <th>0</th>\n",
       "      <td>30.626</td>\n",
       "      <td>22.118</td>\n",
       "    </tr>\n",
       "    <tr>\n",
       "      <th>1</th>\n",
       "      <td>28.344</td>\n",
       "      <td>48.395</td>\n",
       "    </tr>\n",
       "  </tbody>\n",
       "</table>\n",
       "</div>"
      ],
      "text/plain": [
       "            Age   Fare\n",
       "Survived              \n",
       "0        30.626 22.118\n",
       "1        28.344 48.395"
      ]
     },
     "execution_count": 18,
     "metadata": {},
     "output_type": "execute_result"
    }
   ],
   "source": [
    "pd.pivot_table(df_titanic, index = \"Survived\", values = [\"Age\", \"Fare\"])"
   ]
  },
  {
   "cell_type": "code",
   "execution_count": null,
   "id": "7486b20c",
   "metadata": {},
   "outputs": [],
   "source": [
    "df_titanic[[\"Survived\", \"Pclass\"]].groupby(['Pclass'], as_index = False).mean().sort_values(by = 'Survived', ascending = False)"
   ]
  },
  {
   "cell_type": "code",
   "execution_count": null,
   "id": "e5397a1e",
   "metadata": {},
   "outputs": [],
   "source": [
    "df_titanic[[\"Survived\", \"SibSp\"]].groupby(['SibSp'], as_index = False).mean().sort_values(by = 'Survived', ascending = False)"
   ]
  },
  {
   "cell_type": "code",
   "execution_count": null,
   "id": "f3da6572",
   "metadata": {},
   "outputs": [],
   "source": [
    "df_titanic[[\"Survived\", \"Embarked\"]].groupby(['Embarked'], as_index = False).mean().sort_values(by = 'Survived', ascending = False)"
   ]
  },
  {
   "cell_type": "code",
   "execution_count": null,
   "id": "f083d892",
   "metadata": {},
   "outputs": [],
   "source": [
    "df_titanic[[\"Survived\", \"Sex\"]].groupby(['Sex'], as_index = False).mean().sort_values(by = 'Survived', ascending = False)"
   ]
  },
  {
   "cell_type": "code",
   "execution_count": null,
   "id": "aa73fbce",
   "metadata": {},
   "outputs": [],
   "source": [
    "df_ticket = df_titanic[[\"Survived\",\"Ticket\"]]\n",
    "df_ticket"
   ]
  },
  {
   "cell_type": "code",
   "execution_count": null,
   "id": "d1d0e093",
   "metadata": {},
   "outputs": [],
   "source": [
    "df_ticket[\"Tiquete_Numerico\"] = df_ticket[\"Ticket\"].apply(lambda x: 1 if x.isnumeric() else 0)\n",
    "df_ticket"
   ]
  },
  {
   "cell_type": "code",
   "execution_count": null,
   "id": "7d1b4464",
   "metadata": {},
   "outputs": [],
   "source": [
    "df_ticket[[\"Survived\", \"Tiquete_Numerico\"]].groupby(['Tiquete_Numerico'], as_index = False).mean().sort_values(by ='Survived', ascending = False)"
   ]
  },
  {
   "cell_type": "code",
   "execution_count": null,
   "id": "2d6dcc28",
   "metadata": {},
   "outputs": [],
   "source": [
    "lista_letras = []\n",
    "for i in df_ticket[\"Ticket\"]:\n",
    "    if i.isnumeric():\n",
    "        continue\n",
    "    else:\n",
    "        lista_letras.append(i.split()[0])\n",
    "\n",
    "lista_letras[:20]"
   ]
  },
  {
   "cell_type": "code",
   "execution_count": null,
   "id": "dc6cbb62",
   "metadata": {},
   "outputs": [],
   "source": [
    "Counter(lista_letras)"
   ]
  },
  {
   "cell_type": "code",
   "execution_count": null,
   "id": "297d2618",
   "metadata": {},
   "outputs": [],
   "source": [
    "len(Counter(lista_letras))"
   ]
  },
  {
   "cell_type": "code",
   "execution_count": null,
   "id": "e8614600",
   "metadata": {},
   "outputs": [],
   "source": [
    "df_titanic.drop(\"Ticket\", axis = 1, inplace = True)\n",
    "df_titanic.head()"
   ]
  },
  {
   "cell_type": "code",
   "execution_count": null,
   "id": "a0d50315",
   "metadata": {},
   "outputs": [],
   "source": [
    "df_titanic[\"Embarked\"].isna().sum()"
   ]
  },
  {
   "cell_type": "code",
   "execution_count": null,
   "id": "6512f83d",
   "metadata": {},
   "outputs": [],
   "source": [
    "df_titanic[\"Embarked\"].fillna(df_titanic[\"Embarked\"].mode()[0], inplace = True)\n",
    "df_titanic[\"Embarked\"].value_counts()"
   ]
  },
  {
   "cell_type": "code",
   "execution_count": null,
   "id": "9d5a3560",
   "metadata": {},
   "outputs": [],
   "source": [
    "df2 = pd.get_dummies(df_titanic, columns=[\"Sex\", \"Embarked\"], drop_first = True)\n",
    "df2.head()"
   ]
  },
  {
   "cell_type": "code",
   "execution_count": null,
   "id": "20c1ff24",
   "metadata": {},
   "outputs": [],
   "source": [
    "imputer_KNN = KNNImputer(n_neighbors = 10, weights = 'uniform', metric = 'nan_euclidean')"
   ]
  },
  {
   "cell_type": "code",
   "execution_count": null,
   "id": "ca33af19",
   "metadata": {},
   "outputs": [],
   "source": [
    "df_KNN = pd.DataFrame(imputer_KNN.fit_transform(df2), columns = df2.columns)"
   ]
  },
  {
   "cell_type": "code",
   "execution_count": null,
   "id": "d8d13882",
   "metadata": {},
   "outputs": [],
   "source": [
    "df_KNN.isna().any()"
   ]
  },
  {
   "cell_type": "code",
   "execution_count": null,
   "id": "557cc48d",
   "metadata": {},
   "outputs": [],
   "source": [
    "df_KNN[\"SibSp\"].value_counts()"
   ]
  },
  {
   "cell_type": "code",
   "execution_count": null,
   "id": "1d6ee6ea",
   "metadata": {},
   "outputs": [],
   "source": [
    "df_KNN[\"Parch\"].value_counts()"
   ]
  },
  {
   "cell_type": "code",
   "execution_count": null,
   "id": "3f0b990f",
   "metadata": {},
   "outputs": [],
   "source": [
    "df_KNN['Travel Alone'] = 0\n",
    "df_KNN.loc[(df_KNN['SibSp'] + df_KNN['Parch']) == 0, 'Travel Alone'] = 1\n",
    "df_KNN.head()"
   ]
  },
  {
   "cell_type": "code",
   "execution_count": null,
   "id": "98432b5d",
   "metadata": {},
   "outputs": [],
   "source": [
    "df_KNN[['Travel Alone', 'Survived']].groupby(['Travel Alone'], as_index=False).mean()"
   ]
  },
  {
   "cell_type": "code",
   "execution_count": null,
   "id": "ddc5138f",
   "metadata": {},
   "outputs": [],
   "source": [
    "df_KNN.drop([\"SibSp\", \"Parch\"], axis = 1, inplace = True)"
   ]
  },
  {
   "cell_type": "code",
   "execution_count": null,
   "id": "42271557",
   "metadata": {},
   "outputs": [],
   "source": [
    "df = df_KNN.copy()\n",
    "df"
   ]
  },
  {
   "cell_type": "code",
   "execution_count": null,
   "id": "5c0122d0",
   "metadata": {},
   "outputs": [],
   "source": [
    "x = df.drop([\"Survived\"], axis = 1)\n",
    "x"
   ]
  },
  {
   "cell_type": "code",
   "execution_count": null,
   "id": "c5961568",
   "metadata": {},
   "outputs": [],
   "source": [
    "y = df[\"Survived\"].values\n",
    "y[:10]"
   ]
  },
  {
   "cell_type": "code",
   "execution_count": null,
   "id": "51d12459",
   "metadata": {},
   "outputs": [],
   "source": [
    "x_train, x_test, y_train, y_test = train_test_split(x, y, test_size = 0.25)"
   ]
  },
  {
   "cell_type": "code",
   "execution_count": null,
   "id": "8d447cd5",
   "metadata": {},
   "outputs": [],
   "source": [
    "scaler = StandardScaler()"
   ]
  },
  {
   "cell_type": "code",
   "execution_count": null,
   "id": "7de8834f",
   "metadata": {},
   "outputs": [],
   "source": [
    "x_train[[\"Age\", \"Fare\"]] = scaler.fit_transform(x_train[[\"Age\", \"Fare\"]])\n",
    "x_train.head()"
   ]
  },
  {
   "cell_type": "code",
   "execution_count": null,
   "id": "c4a53762",
   "metadata": {},
   "outputs": [],
   "source": [
    "x_test[[\"Age\", \"Fare\"]] = scaler.transform(x_test[[\"Age\", \"Fare\"]])\n",
    "x_test.head()"
   ]
  },
  {
   "cell_type": "code",
   "execution_count": null,
   "id": "2a7e17ed",
   "metadata": {},
   "outputs": [],
   "source": [
    "x_train2, x_test2, y_train2, y_test2 = train_test_split(x, y, test_size = 0.25, random_state = 0)\n",
    "\n",
    "for i in range(3):\n",
    "    if i == 0: # Originales\n",
    "        x_test2[\"Age\"].hist()\n",
    "        plt.xlabel(\"Edad\")\n",
    "        plt.title(\"Datos Originales\")\n",
    "    elif  i == 1: # Estandarizados\n",
    "        x_test[\"Age\"].hist()\n",
    "        plt.xlabel(\"Edad\")\n",
    "        plt.title(\"Datos Estandarizados\")\n",
    "  \n",
    "    else:\n",
    "        x_test[\"Age\"].hist(label = \"Estandarizados\")\n",
    "        x_test2[\"Age\"].hist(label = \"Originales\")\n",
    "        plt.xlabel(\"Edad\")\n",
    "        plt.title(\"Datos originales vs. Escalados\")\n",
    "        plt.legend()\n",
    "    plt.show()"
   ]
  },
  {
   "cell_type": "code",
   "execution_count": null,
   "id": "ca4e6bfe",
   "metadata": {},
   "outputs": [],
   "source": [
    "def modelo_clasificacion (modelo, x_train, y_train, x_test, y_test):\n",
    "    m = modelo.fit(x_train, y_train)\n",
    "\n",
    "    score_train = round(m.score(x_train, y_train) * 100, 2)\n",
    "    score_test = round(m.score(x_test, y_test) *100, 2)\n",
    "    cm = confusion_matrix(y_test, m.predict(x_test), labels = m.classes_)\n",
    "    ConfusionMatrixDisplay(confusion_matrix = cm, display_labels = m.classes_).plot()\n",
    "    print(classification_report(y_test, m.predict(x_test), labels = m.classes_))\n",
    "\n",
    "    return score_train, score_test"
   ]
  },
  {
   "cell_type": "code",
   "execution_count": null,
   "id": "ea62f3be",
   "metadata": {},
   "outputs": [],
   "source": [
    "def validacion_cruzada (modelo, x, y, metrica):\n",
    "    cv = RepeatedStratifiedKFold(n_splits = 10, n_repeats = 3)\n",
    "\n",
    "    n_scores= cross_val_score(modelo, x, y, scoring = metrica, cv = cv, n_jobs = -1)\n",
    "\n",
    "    media = np.mean(n_scores)\n",
    "  \n",
    "    COV = np.std(n_scores)/np.mean(n_scores)*100\n",
    "\n",
    "    plt.plot(np.arange(1,len(n_scores)+1), n_scores, \"o-\", label = str(modelo))\n",
    "    plt.axhline(media, color = \"r\", linestyle = \"--\")\n",
    "    plt.legend(bbox_to_anchor=(1, 1))\n",
    "  \n",
    "    return media, COV"
   ]
  },
  {
   "cell_type": "code",
   "execution_count": null,
   "id": "188d1df5",
   "metadata": {},
   "outputs": [],
   "source": [
    "modelo_clasificacion(LogisticRegression(), x_train, y_train, x_test, y_test)"
   ]
  },
  {
   "cell_type": "code",
   "execution_count": null,
   "id": "bc3cc11b",
   "metadata": {},
   "outputs": [],
   "source": [
    "validacion_cruzada(LogisticRegression(), x, y, \"f1_macro\")"
   ]
  },
  {
   "cell_type": "code",
   "execution_count": null,
   "id": "fe1c739b",
   "metadata": {},
   "outputs": [],
   "source": [
    "modelo_clasificacion(KNeighborsClassifier(), x_train, y_train, x_test, y_test)"
   ]
  },
  {
   "cell_type": "code",
   "execution_count": null,
   "id": "0f466976",
   "metadata": {},
   "outputs": [],
   "source": [
    "validacion_cruzada(KNeighborsClassifier(), x, y, \"f1_macro\")"
   ]
  },
  {
   "cell_type": "code",
   "execution_count": null,
   "id": "57a15ad6",
   "metadata": {},
   "outputs": [],
   "source": [
    "modelo_clasificacion(GaussianNB(), x_train, y_train, x_test, y_test)"
   ]
  },
  {
   "cell_type": "code",
   "execution_count": null,
   "id": "220d06c2",
   "metadata": {},
   "outputs": [],
   "source": [
    "validacion_cruzada(GaussianNB(), x, y, \"f1_macro\")"
   ]
  },
  {
   "cell_type": "code",
   "execution_count": null,
   "id": "0547292d",
   "metadata": {},
   "outputs": [],
   "source": [
    "modelo_clasificacion(BernoulliNB(), x_train, y_train, x_test, y_test)"
   ]
  },
  {
   "cell_type": "code",
   "execution_count": null,
   "id": "f0eeded2",
   "metadata": {},
   "outputs": [],
   "source": [
    "validacion_cruzada(BernoulliNB(), x, y, \"f1_macro\")"
   ]
  },
  {
   "cell_type": "code",
   "execution_count": null,
   "id": "7b1abb7b",
   "metadata": {},
   "outputs": [],
   "source": [
    "modelo_clasificacion(DecisionTreeClassifier(), x_train, y_train, x_test, y_test)"
   ]
  },
  {
   "cell_type": "code",
   "execution_count": null,
   "id": "2cba0126",
   "metadata": {},
   "outputs": [],
   "source": [
    "validacion_cruzada(DecisionTreeClassifier(), x, y, \"f1_macro\")"
   ]
  },
  {
   "cell_type": "code",
   "execution_count": null,
   "id": "d21af6d5",
   "metadata": {},
   "outputs": [],
   "source": [
    "modelo_clasificacion(RandomForestClassifier(), x_train, y_train, x_test, y_test)"
   ]
  },
  {
   "cell_type": "code",
   "execution_count": null,
   "id": "a3910ad5",
   "metadata": {},
   "outputs": [],
   "source": [
    "validacion_cruzada(RandomForestClassifier(), x, y, \"f1_macro\")"
   ]
  },
  {
   "cell_type": "code",
   "execution_count": null,
   "id": "1e374e0f",
   "metadata": {},
   "outputs": [],
   "source": [
    "modelo_clasificacion(ExtraTreesClassifier(), x_train, y_train, x_test, y_test)"
   ]
  },
  {
   "cell_type": "code",
   "execution_count": null,
   "id": "d7ea6a0e",
   "metadata": {},
   "outputs": [],
   "source": [
    "validacion_cruzada(ExtraTreesClassifier(), x, y, \"f1_macro\")"
   ]
  },
  {
   "cell_type": "code",
   "execution_count": null,
   "id": "564d985b",
   "metadata": {},
   "outputs": [],
   "source": [
    "modelo_clasificacion(SVC(), x_train, y_train, x_test, y_test)"
   ]
  },
  {
   "cell_type": "code",
   "execution_count": null,
   "id": "6a545b03",
   "metadata": {},
   "outputs": [],
   "source": [
    "validacion_cruzada(SVC(), x, y, \"f1_macro\")"
   ]
  },
  {
   "cell_type": "code",
   "execution_count": null,
   "id": "832ff134",
   "metadata": {},
   "outputs": [],
   "source": [
    "modelo_clasificacion(XGBClassifier(), x_train, y_train, x_test, y_test)"
   ]
  },
  {
   "cell_type": "code",
   "execution_count": null,
   "id": "1dcaf7e2",
   "metadata": {},
   "outputs": [],
   "source": [
    "validacion_cruzada(XGBClassifier(), x, y, \"f1_macro\")"
   ]
  },
  {
   "cell_type": "code",
   "execution_count": null,
   "id": "2369fc82",
   "metadata": {},
   "outputs": [],
   "source": [
    "modelo_clasificacion(MLPClassifier(), x_train, y_train, x_test, y_test)"
   ]
  },
  {
   "cell_type": "code",
   "execution_count": null,
   "id": "1b41ea7d",
   "metadata": {},
   "outputs": [],
   "source": [
    "validacion_cruzada(MLPClassifier(), x, y, \"f1_macro\")"
   ]
  },
  {
   "cell_type": "code",
   "execution_count": null,
   "id": "6ea534f2",
   "metadata": {},
   "outputs": [],
   "source": [
    "## Comparativa\n",
    "\n",
    "models = pd.DataFrame({\n",
    "    'Model': [\"Logistic Regression \",\n",
    "             \"KNN\",\n",
    "             \"Naive Bayes Gaussian\",\n",
    "             \"Naive Bayes Bernoulli\",\n",
    "              \"Decision Classifier\",\n",
    "              \"Random Forest\",\n",
    "              \"Extra Tree Classifier\",\n",
    "             \"SVC\",\n",
    "              \"XGBoost\",\n",
    "             \"MLP Classifier\"],\n",
    "\n",
    "    'f1_score_macro': [validacion_cruzada(LogisticRegression(), x, y, \"f1_macro\")[0],\n",
    "             validacion_cruzada(KNeighborsClassifier(), x, y, \"f1_macro\")[0],\n",
    "             validacion_cruzada(GaussianNB(), x, y, \"f1_macro\")[0],\n",
    "             validacion_cruzada(BernoulliNB(), x, y, \"f1_macro\")[0],\n",
    "             validacion_cruzada(DecisionTreeClassifier(), x, y, \"f1_macro\")[0],\n",
    "             validacion_cruzada(RandomForestClassifier(), x, y, \"f1_macro\")[0],\n",
    "             validacion_cruzada(ExtraTreesClassifier(), x, y, \"f1_macro\")[0],\n",
    "             validacion_cruzada(SVC(), x, y, \"f1_macro\")[0],\n",
    "             validacion_cruzada(XGBClassifier(), x, y, \"f1_macro\")[0],\n",
    "             validacion_cruzada(MLPClassifier(), x, y, \"f1_macro\")[0]],\n",
    "             \n",
    "      'COV [%]': [validacion_cruzada(LogisticRegression(), x, y, \"f1_macro\")[1],\n",
    "             validacion_cruzada(KNeighborsClassifier(), x, y, \"f1_macro\")[1],\n",
    "             validacion_cruzada(GaussianNB(), x, y, \"f1_macro\")[1],\n",
    "             validacion_cruzada(BernoulliNB(), x, y, \"f1_macro\")[1],\n",
    "             validacion_cruzada(DecisionTreeClassifier(), x, y, \"f1_macro\")[1],\n",
    "             validacion_cruzada(RandomForestClassifier(), x, y, \"f1_macro\")[1],\n",
    "             validacion_cruzada(ExtraTreesClassifier(), x, y, \"f1_macro\")[1],\n",
    "             validacion_cruzada(SVC(), x, y, \"f1_macro\")[1],\n",
    "             validacion_cruzada(XGBClassifier(), x, y, \"f1_macro\")[1], \n",
    "             validacion_cruzada(MLPClassifier(), x, y, \"f1_macro\")[1]]})\n",
    "\n",
    "             \n",
    "models.sort_values(by = 'f1_score_macro', ascending = False)"
   ]
  },
  {
   "cell_type": "code",
   "execution_count": null,
   "id": "e4bbe66e",
   "metadata": {},
   "outputs": [],
   "source": [
    "pre_tuning = []\n",
    "\n",
    "pre_tuning.append(validacion_cruzada(DecisionTreeClassifier(), x, y, \"f1_macro\"))\n",
    "pre_tuning.append(validacion_cruzada(RandomForestClassifier(), x, y, \"f1_macro\"))\n",
    "pre_tuning.append(validacion_cruzada(ExtraTreesClassifier(), x, y, \"f1_macro\"))\n",
    "pre_tuning.append(validacion_cruzada(XGBClassifier(), x, y, \"f1_macro\"))\n",
    "\n",
    "pre_tuning"
   ]
  },
  {
   "cell_type": "code",
   "execution_count": null,
   "id": "525cd34a",
   "metadata": {},
   "outputs": [],
   "source": [
    "# Función de Sintonización\n",
    "\n",
    "def op_DT (trial):\n",
    "\n",
    "    _criterion = trial.suggest_categorical(\"criterion\", [\"gini\", \"entropy\"])\n",
    "    _splitter = trial.suggest_categorical(\"splitter\", [\"best\", \"random\"])\n",
    "    _max_depth = trial.suggest_categorical(\"max_depth\", [1, 5, 10, 20, 30, 40, 50, 60, 70, 80, 90, 100])\n",
    "    _min_samples_leaf = trial.suggest_categorical(\"min_samples_leaf\", [1, 2, 3, 4, 5, 6, 7, 8, 9, 10])\n",
    "\n",
    "\n",
    "    model = DecisionTreeClassifier(criterion = _criterion,\n",
    "                                 splitter= _splitter,\n",
    "                                 max_depth = _max_depth,\n",
    "                                 min_samples_leaf = _min_samples_leaf)\n",
    "  \n",
    "    cv = RepeatedStratifiedKFold(n_splits = 10, n_repeats = 3)\n",
    "\n",
    "    return cross_val_score(model, x, y, scoring = \"f1_macro\", cv = cv, n_jobs=-1).mean()\n",
    "\n",
    "study_DT = optuna.create_study(direction = 'maximize')\n",
    "study_DT.optimize(op_DT, n_trials = 100)\n",
    "\n",
    "trial = study_DT.best_trial\n",
    "\n",
    "print('Accuracy: {}'.format(trial.value))\n",
    "print(\"Best hyperparameters: {}\".format(trial.params))"
   ]
  },
  {
   "cell_type": "code",
   "execution_count": null,
   "id": "f65e9f04",
   "metadata": {},
   "outputs": [],
   "source": [
    "optuna.visualization.plot_optimization_history(study_DT)"
   ]
  },
  {
   "cell_type": "code",
   "execution_count": null,
   "id": "6258b938",
   "metadata": {},
   "outputs": [],
   "source": [
    "\n",
    "post_tuning = []\n",
    "\n",
    "\n",
    "_criterion = trial.params[\"criterion\"]\n",
    "_splitter = trial.params[\"splitter\"]\n",
    "_max_depth = trial.params[\"max_depth\"]\n",
    "_min_samples_leaf = trial.params[\"min_samples_leaf\"]\n",
    "\n",
    "post_tuning.append(validacion_cruzada(DecisionTreeClassifier(criterion = _criterion, \n",
    "                                                         splitter = _splitter,\n",
    "                                                         max_depth = _max_depth,\n",
    "                                                         min_samples_leaf = _min_samples_leaf), x, y, \"f1_macro\"))\n",
    "\n",
    "post_tuning"
   ]
  },
  {
   "cell_type": "code",
   "execution_count": null,
   "id": "f86b4471",
   "metadata": {},
   "outputs": [],
   "source": [
    "def op_RF (trial):\n",
    "\n",
    "    _n_estimators = trial.suggest_int(\"n_estimators\", 10, 100)\n",
    "    _criterion = trial.suggest_categorical(\"criterion\", [\"gini\", \"entropy\"])\n",
    "    _max_depth = trial.suggest_int(\"max_depth\", 1, 10)\n",
    "    _min_samples_leaf = trial.suggest_int(\"min_samples_leaf\", 1, 10)\n",
    "\n",
    "    model = RandomForestClassifier(n_estimators = _n_estimators,\n",
    "                                criterion = _criterion,\n",
    "                                max_depth = _max_depth,\n",
    "                                min_samples_leaf = _min_samples_leaf)\n",
    "  \n",
    "    cv = RepeatedStratifiedKFold(n_splits = 10, n_repeats = 3)\n",
    "\n",
    "    return cross_val_score(model, x, y, scoring = \"f1_macro\", cv = cv, n_jobs=-1).mean()\n",
    "\n",
    "study_RF = optuna.create_study(direction = 'maximize')\n",
    "study_RF.optimize(op_RF, n_trials = 30)\n",
    "\n",
    "trial = study_RF.best_trial\n",
    "\n",
    "print('Accuracy: {}'.format(trial.value))\n",
    "print(\"Best hyperparameters: {}\".format(trial.params))"
   ]
  },
  {
   "cell_type": "code",
   "execution_count": null,
   "id": "68822e56",
   "metadata": {},
   "outputs": [],
   "source": [
    "\n",
    "optuna.visualization.plot_optimization_history(study_RF)"
   ]
  },
  {
   "cell_type": "code",
   "execution_count": null,
   "id": "82a7074b",
   "metadata": {},
   "outputs": [],
   "source": [
    "# Valores de desempeño post-tuning\n",
    "\n",
    "_n_estimators = trial.params[\"n_estimators\"]\n",
    "_criterion = trial.params[\"criterion\"]\n",
    "_max_depth = trial.params[\"max_depth\"]\n",
    "_min_samples_leaf = trial.params[\"min_samples_leaf\"]\n",
    "\n",
    "post_tuning.append(validacion_cruzada(RandomForestClassifier(n_estimators = _n_estimators,\n",
    "                                                             criterion = _criterion,\n",
    "                                                             max_depth = _max_depth,\n",
    "                                                             min_samples_leaf = _min_samples_leaf), x, y, \"f1_macro\"))\n",
    "\n",
    "post_tuning"
   ]
  },
  {
   "cell_type": "code",
   "execution_count": null,
   "id": "62ce3dff",
   "metadata": {},
   "outputs": [],
   "source": [
    "def op_ET (trial):\n",
    "\n",
    "    _n_estimators = trial.suggest_int(\"n_estimators\", 10, 100)\n",
    "    _criterion = trial.suggest_categorical(\"criterion\", [\"gini\", \"entropy\"])\n",
    "    _max_depth = trial.suggest_int(\"max_depth\", 1, 10)\n",
    "    _min_samples_leaf = trial.suggest_int(\"min_samples_leaf\", 1, 10)\n",
    "\n",
    "    model = ExtraTreesClassifier(n_estimators = _n_estimators,\n",
    "                                criterion = _criterion,\n",
    "                                max_depth = _max_depth,\n",
    "                                min_samples_leaf = _min_samples_leaf)\n",
    "  \n",
    "    cv = RepeatedStratifiedKFold(n_splits = 10, n_repeats = 3)\n",
    "\n",
    "    return cross_val_score(model, x, y, scoring = \"f1_macro\", cv = cv, n_jobs=-1).mean()\n",
    "\n",
    "study_ET = optuna.create_study(direction = 'maximize')\n",
    "study_ET.optimize(op_ET, n_trials = 30)\n",
    "\n",
    "trial = study_ET.best_trial\n",
    "\n",
    "print('Accuracy: {}'.format(trial.value))\n",
    "print(\"Best hyperparameters: {}\".format(trial.params))"
   ]
  },
  {
   "cell_type": "code",
   "execution_count": null,
   "id": "4aed1de0",
   "metadata": {},
   "outputs": [],
   "source": [
    "optuna.visualization.plot_optimization_history(study_ET)"
   ]
  },
  {
   "cell_type": "code",
   "execution_count": null,
   "id": "83adf2af",
   "metadata": {},
   "outputs": [],
   "source": [
    "_n_estimators = trial.params[\"n_estimators\"]\n",
    "_criterion = trial.params[\"criterion\"]\n",
    "_max_depth = trial.params[\"max_depth\"]\n",
    "_min_samples_leaf = trial.params[\"min_samples_leaf\"]\n",
    "\n",
    "post_tuning.append(validacion_cruzada(ExtraTreesClassifier(n_estimators = _n_estimators,\n",
    "                                                             criterion = _criterion,\n",
    "                                                             max_depth = _max_depth,\n",
    "                                                             min_samples_leaf = _min_samples_leaf), x, y, \"f1_macro\"))\n",
    "\n",
    "post_tuning"
   ]
  },
  {
   "cell_type": "code",
   "execution_count": null,
   "id": "b1326d9e",
   "metadata": {},
   "outputs": [],
   "source": [
    "def op_XG (trial):\n",
    "\n",
    "    _booster = trial.suggest_categorical(\"booster\", [\"gbtree\", \"gblinear\", \"dart\"])\n",
    "    _eta = trial.suggest_float(\"eta\", 0.01, 0.5)\n",
    "    _gamma = trial.suggest_int(\"gamma\", 1, 100)\n",
    "    _max_depth = trial.suggest_int(\"max_depth\", 1, 10)\n",
    "    _subsample = trial.suggest_float(\"subsample\", 0.1, 1)\n",
    "\n",
    "    model = XGBClassifier(booster = _booster,\n",
    "                        eta = _eta,\n",
    "                        gamma = _gamma,\n",
    "                        max_depth = _max_depth,\n",
    "                        subsample = _subsample)\n",
    "  \n",
    "    cv = RepeatedStratifiedKFold(n_splits = 10, n_repeats = 3)\n",
    "    \n",
    "    return cross_val_score(model, x, y, scoring = \"f1_macro\", cv = cv, n_jobs=-1).mean()\n",
    "\n",
    "study_XG = optuna.create_study(direction = 'maximize')\n",
    "study_XG.optimize(op_XG, n_trials = 30)\n",
    "\n",
    "trial = study_XG.best_trial\n",
    "\n",
    "print('Accuracy: {}'.format(trial.value))\n",
    "print(\"Best hyperparameters: {}\".format(trial.params))"
   ]
  },
  {
   "cell_type": "code",
   "execution_count": null,
   "id": "3a4d903b",
   "metadata": {},
   "outputs": [],
   "source": [
    "optuna.visualization.plot_optimization_history(study_XG)"
   ]
  },
  {
   "cell_type": "code",
   "execution_count": null,
   "id": "d19b08a1",
   "metadata": {},
   "outputs": [],
   "source": [
    "_booster = trial.params[\"booster\"]\n",
    "_eta = trial.params[\"eta\"]\n",
    "_gamma = trial.params[\"gamma\"]\n",
    "_max_depth = trial.params[\"max_depth\"]\n",
    "_subsample = trial.params[\"subsample\"]\n",
    "\n",
    "\n",
    "post_tuning.append(validacion_cruzada(XGBClassifier(booster = _booster,\n",
    "                                                    eta = _eta,\n",
    "                                                    gamma = _gamma,\n",
    "                                                    max_depth = _max_depth,\n",
    "                                                    subsample = _subsample), x, y, \"f1_macro\"))\n",
    "\n",
    "post_tuning"
   ]
  },
  {
   "cell_type": "code",
   "execution_count": null,
   "id": "357ff802",
   "metadata": {},
   "outputs": [],
   "source": [
    "# Comparativa\n",
    "\n",
    "modelos = pd.DataFrame({\n",
    "    'Model': [\"Decision Tree Classifier\",\n",
    "              \"Random Forest\",\n",
    "              \"Extra Tree Classifier\",\n",
    "              \"XGBoost\"],\n",
    "\n",
    "    'Pre-Tuning': [pre_tuning[0][0],\n",
    "                   pre_tuning[1][0],\n",
    "                   pre_tuning[2][0],\n",
    "                   pre_tuning[3][0]],\n",
    "                   \n",
    "    'Post-Tuning': [post_tuning[0][0],\n",
    "                   post_tuning[1][0],\n",
    "                   post_tuning[2][0],\n",
    "                   post_tuning[3][0]]})\n",
    "\n",
    "             \n",
    "modelos"
   ]
  },
  {
   "cell_type": "code",
   "execution_count": null,
   "id": "99722206",
   "metadata": {},
   "outputs": [],
   "source": [
    "modelo_clasificacion(XGBClassifier(booster = _booster,\n",
    "                            eta = _eta,\n",
    "                            gamma = _gamma,\n",
    "                            max_depth = _max_depth,\n",
    "                            subsample = _subsample),\n",
    "                     x_train, y_train, x_test, y_test)"
   ]
  }
 ],
 "metadata": {
  "kernelspec": {
   "display_name": "Python 3 (ipykernel)",
   "language": "python",
   "name": "python3"
  },
  "language_info": {
   "codemirror_mode": {
    "name": "ipython",
    "version": 3
   },
   "file_extension": ".py",
   "mimetype": "text/x-python",
   "name": "python",
   "nbconvert_exporter": "python",
   "pygments_lexer": "ipython3",
   "version": "3.9.12"
  }
 },
 "nbformat": 4,
 "nbformat_minor": 5
}
